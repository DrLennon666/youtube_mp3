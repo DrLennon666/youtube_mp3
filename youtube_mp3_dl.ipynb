{
  "nbformat": 4,
  "nbformat_minor": 0,
  "metadata": {
    "colab": {
      "name": "youtube_mp3_dl",
      "provenance": [],
      "collapsed_sections": [],
      "authorship_tag": "ABX9TyNBZSGHjSibHAYBCtH+c6F1",
      "include_colab_link": true
    },
    "kernelspec": {
      "name": "python3",
      "display_name": "Python 3"
    }
  },
  "cells": [
    {
      "cell_type": "markdown",
      "metadata": {
        "id": "view-in-github",
        "colab_type": "text"
      },
      "source": [
        "<a href=\"https://colab.research.google.com/github/DrLennon666/youtube_mp3/blob/master/youtube_mp3_dl.ipynb\" target=\"_parent\"><img src=\"https://colab.research.google.com/assets/colab-badge.svg\" alt=\"Open In Colab\"/></a>"
      ]
    },
    {
      "cell_type": "code",
      "metadata": {
        "id": "VymgdbG9TddM",
        "colab_type": "code",
        "colab": {
          "base_uri": "https://localhost:8080/",
          "height": 122
        },
        "outputId": "aed9ad45-e479-4024-cccc-db1cf82829e1"
      },
      "source": [
        "!pip install youtube-dl"
      ],
      "execution_count": 1,
      "outputs": [
        {
          "output_type": "stream",
          "text": [
            "Collecting youtube-dl\n",
            "\u001b[?25l  Downloading https://files.pythonhosted.org/packages/a4/5f/db1fb30596fbfabd3500e741cd9c73d0cb1d25387582fd21289bed05a9c2/youtube_dl-2020.6.16.1-py2.py3-none-any.whl (1.8MB)\n",
            "\u001b[K     |████████████████████████████████| 1.8MB 2.7MB/s \n",
            "\u001b[?25hInstalling collected packages: youtube-dl\n",
            "Successfully installed youtube-dl-2020.6.16.1\n"
          ],
          "name": "stdout"
        }
      ]
    },
    {
      "cell_type": "markdown",
      "metadata": {
        "id": "XSC9B0OKTxk-",
        "colab_type": "text"
      },
      "source": [
        "Example songs to download and convert to mp3.\n",
        "\n",
        "[Naked Raygun - Broken Things](https://www.youtube.com/watch?v=81kqMns1amM)\n",
        "\n",
        "[Weston - Return to Horse Valley](https://www.youtube.com/watch?v=o6Y5u9P5pYI)"
      ]
    },
    {
      "cell_type": "code",
      "metadata": {
        "id": "vraMe--LTnrd",
        "colab_type": "code",
        "colab": {
          "base_uri": "https://localhost:8080/",
          "height": 187
        },
        "outputId": "b04f0c49-fdc2-499e-8998-5fdfbf3dd3d0"
      },
      "source": [
        "# Download youtube video as mp4.\n",
        "url = 'https://www.youtube.com/watch?v=1ZpP6o2NEpY' # URL to your video\n",
        "!youtube-dl -f 'bestvideo[ext=mp4]+bestaudio[ext=m4a]/mp4' {url}"
      ],
      "execution_count": 4,
      "outputs": [
        {
          "output_type": "stream",
          "text": [
            "[youtube] 1ZpP6o2NEpY: Downloading webpage\n",
            "[youtube] 1ZpP6o2NEpY: Downloading js player 68f00b39\n",
            "[youtube] 1ZpP6o2NEpY: Downloading js player 68f00b39\n",
            "[download] Destination: Darkest Hour  -  Painkiller (Judas Priest)-1ZpP6o2NEpY.f137.mp4\n",
            "\u001b[K[download] 100% of 6.59MiB in 00:01\n",
            "[download] Destination: Darkest Hour  -  Painkiller (Judas Priest)-1ZpP6o2NEpY.f140.m4a\n",
            "\u001b[K[download] 100% of 5.27MiB in 00:00\n",
            "[ffmpeg] Merging formats into \"Darkest Hour  -  Painkiller (Judas Priest)-1ZpP6o2NEpY.mp4\"\n",
            "Deleting original file Darkest Hour  -  Painkiller (Judas Priest)-1ZpP6o2NEpY.f137.mp4 (pass -k to keep)\n",
            "Deleting original file Darkest Hour  -  Painkiller (Judas Priest)-1ZpP6o2NEpY.f140.m4a (pass -k to keep)\n"
          ],
          "name": "stdout"
        }
      ]
    },
    {
      "cell_type": "code",
      "metadata": {
        "id": "LMUlcxiLR5yM",
        "colab_type": "code",
        "colab": {
          "base_uri": "https://localhost:8080/",
          "height": 717
        },
        "outputId": "48558116-6a62-4dc3-d170-4bc23b48b984"
      },
      "source": [
        "# strip audio and save mp3.\n",
        "file_name = 'darkest_hour_painkiller'\n",
        "source = file_name +'.mp4'\n",
        "destination = file_name + '.mp3'\n",
        "!ffmpeg -i {source} -f mp3 -ab 192000 -vn {destination}"
      ],
      "execution_count": 5,
      "outputs": [
        {
          "output_type": "stream",
          "text": [
            "ffmpeg version 3.4.6-0ubuntu0.18.04.1 Copyright (c) 2000-2019 the FFmpeg developers\n",
            "  built with gcc 7 (Ubuntu 7.3.0-16ubuntu3)\n",
            "  configuration: --prefix=/usr --extra-version=0ubuntu0.18.04.1 --toolchain=hardened --libdir=/usr/lib/x86_64-linux-gnu --incdir=/usr/include/x86_64-linux-gnu --enable-gpl --disable-stripping --enable-avresample --enable-avisynth --enable-gnutls --enable-ladspa --enable-libass --enable-libbluray --enable-libbs2b --enable-libcaca --enable-libcdio --enable-libflite --enable-libfontconfig --enable-libfreetype --enable-libfribidi --enable-libgme --enable-libgsm --enable-libmp3lame --enable-libmysofa --enable-libopenjpeg --enable-libopenmpt --enable-libopus --enable-libpulse --enable-librubberband --enable-librsvg --enable-libshine --enable-libsnappy --enable-libsoxr --enable-libspeex --enable-libssh --enable-libtheora --enable-libtwolame --enable-libvorbis --enable-libvpx --enable-libwavpack --enable-libwebp --enable-libx265 --enable-libxml2 --enable-libxvid --enable-libzmq --enable-libzvbi --enable-omx --enable-openal --enable-opengl --enable-sdl2 --enable-libdc1394 --enable-libdrm --enable-libiec61883 --enable-chromaprint --enable-frei0r --enable-libopencv --enable-libx264 --enable-shared\n",
            "  libavutil      55. 78.100 / 55. 78.100\n",
            "  libavcodec     57.107.100 / 57.107.100\n",
            "  libavformat    57. 83.100 / 57. 83.100\n",
            "  libavdevice    57. 10.100 / 57. 10.100\n",
            "  libavfilter     6.107.100 /  6.107.100\n",
            "  libavresample   3.  7.  0 /  3.  7.  0\n",
            "  libswscale      4.  8.100 /  4.  8.100\n",
            "  libswresample   2.  9.100 /  2.  9.100\n",
            "  libpostproc    54.  7.100 / 54.  7.100\n",
            "Input #0, mov,mp4,m4a,3gp,3g2,mj2, from 'darkest_hour_painkiller.mp4':\n",
            "  Metadata:\n",
            "    major_brand     : isom\n",
            "    minor_version   : 512\n",
            "    compatible_brands: isomiso2avc1mp41\n",
            "    encoder         : Lavf57.83.100\n",
            "  Duration: 00:05:47.93, start: 0.000000, bitrate: 287 kb/s\n",
            "    Stream #0:0(und): Video: h264 (High) (avc1 / 0x31637661), yuv420p(tv, bt709), 1920x1080 [SAR 1:1 DAR 16:9], 156 kb/s, 24 fps, 24 tbr, 90k tbn, 48 tbc (default)\n",
            "    Metadata:\n",
            "      handler_name    : VideoHandler\n",
            "    Stream #0:1(eng): Audio: aac (LC) (mp4a / 0x6134706D), 44100 Hz, stereo, fltp, 125 kb/s (default)\n",
            "    Metadata:\n",
            "      handler_name    : SoundHandler\n",
            "Stream mapping:\n",
            "  Stream #0:1 -> #0:0 (aac (native) -> mp3 (libmp3lame))\n",
            "Press [q] to stop, [?] for help\n",
            "Output #0, mp3, to 'darkest_hour_painkiller.mp3':\n",
            "  Metadata:\n",
            "    major_brand     : isom\n",
            "    minor_version   : 512\n",
            "    compatible_brands: isomiso2avc1mp41\n",
            "    TSSE            : Lavf57.83.100\n",
            "    Stream #0:0(eng): Audio: mp3 (libmp3lame), 44100 Hz, stereo, fltp, 192 kb/s (default)\n",
            "    Metadata:\n",
            "      handler_name    : SoundHandler\n",
            "      encoder         : Lavc57.107.100 libmp3lame\n",
            "size=    8156kB time=00:05:47.95 bitrate= 192.0kbits/s speed=36.9x    \n",
            "video:0kB audio:8156kB subtitle:0kB other streams:0kB global headers:0kB muxing overhead: 0.009268%\n"
          ],
          "name": "stdout"
        }
      ]
    },
    {
      "cell_type": "code",
      "metadata": {
        "id": "e8kv8OBKWm-9",
        "colab_type": "code",
        "colab": {}
      },
      "source": [
        ""
      ],
      "execution_count": null,
      "outputs": []
    }
  ]
}