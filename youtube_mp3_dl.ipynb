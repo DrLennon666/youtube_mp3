{
  "nbformat": 4,
  "nbformat_minor": 0,
  "metadata": {
    "colab": {
      "name": "youtube_mp3_dl",
      "provenance": [],
      "collapsed_sections": [],
      "authorship_tag": "ABX9TyN/mfGDSjJjdvOEdVDKaHUn",
      "include_colab_link": true
    },
    "kernelspec": {
      "name": "python3",
      "display_name": "Python 3"
    }
  },
  "cells": [
    {
      "cell_type": "markdown",
      "metadata": {
        "id": "view-in-github",
        "colab_type": "text"
      },
      "source": [
        "<a href=\"https://colab.research.google.com/github/DrLennon666/youtube_mp3/blob/master/youtube_mp3_dl.ipynb\" target=\"_parent\"><img src=\"https://colab.research.google.com/assets/colab-badge.svg\" alt=\"Open In Colab\"/></a>"
      ]
    },
    {
      "cell_type": "code",
      "metadata": {
        "id": "VymgdbG9TddM",
        "colab_type": "code",
        "colab": {
          "base_uri": "https://localhost:8080/",
          "height": 122
        },
        "outputId": "5b2c880b-a4a7-40bd-b6bb-4b8d41b9dd26"
      },
      "source": [
        "!pip install youtube-dl"
      ],
      "execution_count": 1,
      "outputs": [
        {
          "output_type": "stream",
          "text": [
            "Collecting youtube-dl\n",
            "\u001b[?25l  Downloading https://files.pythonhosted.org/packages/a4/5f/db1fb30596fbfabd3500e741cd9c73d0cb1d25387582fd21289bed05a9c2/youtube_dl-2020.6.16.1-py2.py3-none-any.whl (1.8MB)\n",
            "\u001b[K     |████████████████████████████████| 1.8MB 2.7MB/s \n",
            "\u001b[?25hInstalling collected packages: youtube-dl\n",
            "Successfully installed youtube-dl-2020.6.16.1\n"
          ],
          "name": "stdout"
        }
      ]
    },
    {
      "cell_type": "markdown",
      "metadata": {
        "id": "XSC9B0OKTxk-",
        "colab_type": "text"
      },
      "source": [
        "Example songs to download and convert to mp3.\n",
        "\n",
        "[Naked Raygun - Broken Things](https://www.youtube.com/watch?v=81kqMns1amM)\n",
        "\n",
        "[Weston - Return to Horse Valley](https://www.youtube.com/watch?v=o6Y5u9P5pYI)"
      ]
    },
    {
      "cell_type": "code",
      "metadata": {
        "id": "vraMe--LTnrd",
        "colab_type": "code",
        "colab": {
          "base_uri": "https://localhost:8080/",
          "height": 153
        },
        "outputId": "0ed9b3e0-ea12-4eb7-d022-bb24f3c407c4"
      },
      "source": [
        "# Download youtube video as mp4.\n",
        "url = 'https://www.youtube.com/watch?v=o6Y5u9P5pYI' # URL to your video\n",
        "!youtube-dl -f 'bestvideo[ext=mp4]+bestaudio[ext=m4a]/mp4' {url}"
      ],
      "execution_count": 3,
      "outputs": [
        {
          "output_type": "stream",
          "text": [
            "[youtube] o6Y5u9P5pYI: Downloading webpage\n",
            "[download] Destination: WESTON - Return to Horse Valley-o6Y5u9P5pYI.f136.mp4\n",
            "\u001b[K[download] 100% of 11.52MiB in 00:10\n",
            "[download] Destination: WESTON - Return to Horse Valley-o6Y5u9P5pYI.f140.m4a\n",
            "\u001b[K[download] 100% of 2.27MiB in 00:01\n",
            "[ffmpeg] Merging formats into \"WESTON - Return to Horse Valley-o6Y5u9P5pYI.mp4\"\n",
            "Deleting original file WESTON - Return to Horse Valley-o6Y5u9P5pYI.f136.mp4 (pass -k to keep)\n",
            "Deleting original file WESTON - Return to Horse Valley-o6Y5u9P5pYI.f140.m4a (pass -k to keep)\n"
          ],
          "name": "stdout"
        }
      ]
    },
    {
      "cell_type": "code",
      "metadata": {
        "id": "LMUlcxiLR5yM",
        "colab_type": "code",
        "colab": {
          "base_uri": "https://localhost:8080/",
          "height": 717
        },
        "outputId": "431960eb-6764-4ddf-b6fc-54240f93af5b"
      },
      "source": [
        "# strip audio and save mp3.\n",
        "source = 'weston_return_to_horse_valley.mp4'\n",
        "destination = 'weston_return_to_horse_valley.mp3'\n",
        "!ffmpeg -i {source} -f mp3 -ab 192000 -vn {destination}"
      ],
      "execution_count": 21,
      "outputs": [
        {
          "output_type": "stream",
          "text": [
            "ffmpeg version 3.4.6-0ubuntu0.18.04.1 Copyright (c) 2000-2019 the FFmpeg developers\n",
            "  built with gcc 7 (Ubuntu 7.3.0-16ubuntu3)\n",
            "  configuration: --prefix=/usr --extra-version=0ubuntu0.18.04.1 --toolchain=hardened --libdir=/usr/lib/x86_64-linux-gnu --incdir=/usr/include/x86_64-linux-gnu --enable-gpl --disable-stripping --enable-avresample --enable-avisynth --enable-gnutls --enable-ladspa --enable-libass --enable-libbluray --enable-libbs2b --enable-libcaca --enable-libcdio --enable-libflite --enable-libfontconfig --enable-libfreetype --enable-libfribidi --enable-libgme --enable-libgsm --enable-libmp3lame --enable-libmysofa --enable-libopenjpeg --enable-libopenmpt --enable-libopus --enable-libpulse --enable-librubberband --enable-librsvg --enable-libshine --enable-libsnappy --enable-libsoxr --enable-libspeex --enable-libssh --enable-libtheora --enable-libtwolame --enable-libvorbis --enable-libvpx --enable-libwavpack --enable-libwebp --enable-libx265 --enable-libxml2 --enable-libxvid --enable-libzmq --enable-libzvbi --enable-omx --enable-openal --enable-opengl --enable-sdl2 --enable-libdc1394 --enable-libdrm --enable-libiec61883 --enable-chromaprint --enable-frei0r --enable-libopencv --enable-libx264 --enable-shared\n",
            "  libavutil      55. 78.100 / 55. 78.100\n",
            "  libavcodec     57.107.100 / 57.107.100\n",
            "  libavformat    57. 83.100 / 57. 83.100\n",
            "  libavdevice    57. 10.100 / 57. 10.100\n",
            "  libavfilter     6.107.100 /  6.107.100\n",
            "  libavresample   3.  7.  0 /  3.  7.  0\n",
            "  libswscale      4.  8.100 /  4.  8.100\n",
            "  libswresample   2.  9.100 /  2.  9.100\n",
            "  libpostproc    54.  7.100 / 54.  7.100\n",
            "Input #0, mov,mp4,m4a,3gp,3g2,mj2, from 'weston_return_to_horse_valley.mp4':\n",
            "  Metadata:\n",
            "    major_brand     : isom\n",
            "    minor_version   : 512\n",
            "    compatible_brands: isomiso2avc1mp41\n",
            "    encoder         : Lavf57.83.100\n",
            "  Duration: 00:02:29.82, start: 0.000000, bitrate: 774 kb/s\n",
            "    Stream #0:0(und): Video: h264 (Main) (avc1 / 0x31637661), yuv420p, 1280x720 [SAR 1:1 DAR 16:9], 642 kb/s, 29.98 fps, 29.97 tbr, 90k tbn, 59.94 tbc (default)\n",
            "    Metadata:\n",
            "      handler_name    : VideoHandler\n",
            "    Stream #0:1(und): Audio: aac (LC) (mp4a / 0x6134706D), 44100 Hz, stereo, fltp, 125 kb/s (default)\n",
            "    Metadata:\n",
            "      handler_name    : SoundHandler\n",
            "Stream mapping:\n",
            "  Stream #0:1 -> #0:0 (aac (native) -> mp3 (libmp3lame))\n",
            "Press [q] to stop, [?] for help\n",
            "Output #0, mp3, to 'weston_return_to_horse_valley.mp3':\n",
            "  Metadata:\n",
            "    major_brand     : isom\n",
            "    minor_version   : 512\n",
            "    compatible_brands: isomiso2avc1mp41\n",
            "    TSSE            : Lavf57.83.100\n",
            "    Stream #0:0(und): Audio: mp3 (libmp3lame), 44100 Hz, stereo, fltp, 192 kb/s (default)\n",
            "    Metadata:\n",
            "      handler_name    : SoundHandler\n",
            "      encoder         : Lavc57.107.100 libmp3lame\n",
            "size=    3513kB time=00:02:29.83 bitrate= 192.1kbits/s speed=42.2x    \n",
            "video:0kB audio:3512kB subtitle:0kB other streams:0kB global headers:0kB muxing overhead: 0.021519%\n"
          ],
          "name": "stdout"
        }
      ]
    },
    {
      "cell_type": "code",
      "metadata": {
        "id": "e8kv8OBKWm-9",
        "colab_type": "code",
        "colab": {}
      },
      "source": [
        ""
      ],
      "execution_count": null,
      "outputs": []
    }
  ]
}